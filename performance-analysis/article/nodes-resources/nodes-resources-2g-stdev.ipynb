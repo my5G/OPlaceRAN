{
 "metadata": {
  "language_info": {
   "codemirror_mode": {
    "name": "ipython",
    "version": 3
   },
   "file_extension": ".py",
   "mimetype": "text/x-python",
   "name": "python",
   "nbconvert_exporter": "python",
   "pygments_lexer": "ipython3",
   "version": "3.6.9"
  },
  "orig_nbformat": 4,
  "kernelspec": {
   "name": "python3",
   "display_name": "Python 3.6.9 64-bit"
  },
  "interpreter": {
   "hash": "31f2aee4e71d21fbe5cf8b01ff0e069b9275f58929596ceb00d14d90e3e16cd6"
  }
 },
 "nbformat": 4,
 "nbformat_minor": 2,
 "cells": [
  {
   "cell_type": "code",
   "execution_count": 1,
   "source": [
    "import pandas as pd \n",
    "import matplotlib.pyplot as plt\n",
    "import seaborn as sns\n",
    "sns.set_theme(style=\"darkgrid\")\n",
    "dataframe = pd.read_csv('Nodes5.csv',  delimiter=';', header=0, index_col=0)\n",
    "dataframe=dataframe.astype(float)"
   ],
   "outputs": [],
   "metadata": {}
  },
  {
   "cell_type": "code",
   "execution_count": 2,
   "source": [
    "figure, axes = plt.subplots(2, 1)\n",
    "\n",
    "dataframe.plot( kind='bar', y='Média de CPU (Millicores)', label=None, subplots=True, ax=axes[0],yerr=[dataframe['DesvPad de CPU (Millicores)']/2,dataframe['DesvPad de CPU (Millicores)']/2])\n",
    "dataframe.plot( kind='bar', y='Média de MEMORY (MiBytes)', label=None, subplots=True, ax=axes[1],yerr=[dataframe['DesvPad de MEMORY (MiBytes)']/2,dataframe['DesvPad de MEMORY (MiBytes)']/2])\n",
    "axes[0].set_ylabel('CPU (Millicores)')\n",
    "axes[1].set_ylabel('Memory (MiBytes)')\n",
    "axes[0].set_title(None)\n",
    "axes[1].set_title(None)\n",
    "axes[0].set_xticklabels([])\n",
    "axes[0].set_xlabel(None)\n",
    "axes[1].set_xlabel(None)\n",
    "\n",
    "axes[0].get_legend().remove()\n",
    "axes[1].get_legend().remove()\n",
    "\n",
    "plt.savefig('out/nodes_resources_2g_stdev.pdf', bbox_inches='tight')\n",
    "plt.savefig('out/nodes_resources_2g_stdev.png', dpi=300, bbox_inches='tight')"
   ],
   "outputs": [],
   "metadata": {}
  },
  {
   "cell_type": "code",
   "execution_count": null,
   "source": [],
   "outputs": [],
   "metadata": {}
  }
 ]
}